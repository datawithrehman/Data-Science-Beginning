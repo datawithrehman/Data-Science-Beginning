{
 "cells": [
  {
   "cell_type": "markdown",
   "id": "09e293ff",
   "metadata": {},
   "source": [
    "---\n",
    "##  Author Information\n",
    "\n",
    "**Name:** Abdul Rehman  \n",
    "**Role:** Data Science Enthusiast | Python Learner  \n",
    "**Notebook Created:** July 2025  \n",
    "\n",
    "**Connect with Me:**  \n",
    "\n",
    "\n",
    "[![LinkedIn](https://img.shields.io/badge/LinkedIn-blue?style=flat&logo=linkedin&logoColor=white)](https://www.linkedin.com/in/abdul-rehman-74b418350/)\n",
    "[![GitHub](https://img.shields.io/badge/GitHub-black?style=flat&logo=github&logoColor=white)](https://github.com/datawithrehman/Data-Science-Beginning)\n",
    "[![Twitter](https://img.shields.io/badge/Twitter-blue?style=flat&logo=twitter&logoColor=white)](https://x.com/datawithrehman)\n",
    "\n"
   ]
  },
  {
   "cell_type": "markdown",
   "metadata": {},
   "source": [
    "# Day 7: Practical Data Importing and Exporting Techniques\n",
    "\n",
    "In this notebook, you'll learn how to:\n",
    "- Read CSV and Excel files using `pandas`\n",
    "- Preview data using methods like `head()`, `info()`, and `shape`\n",
    "- Import specific columns only\n",
    "- Export cleaned data to CSV and Excel\n",
    "- Avoid common beginner mistakes\n",
    "- Apply your knowledge to a mini-project idea\n"
   ]
  },
  {
   "cell_type": "markdown",
   "metadata": {},
   "source": [
    "## 1. Reading CSV and Excel Files"
   ]
  },
  {
   "cell_type": "code",
   "execution_count": null,
   "metadata": {},
   "outputs": [],
   "source": [
    "import pandas as pd\n",
    "\n",
    "# Replace 'data.csv' and 'data.xlsx' with your file paths\n",
    "df_csv = pd.read_csv('data.csv')\n",
    "df_excel = pd.read_excel('data.xlsx')"
   ]
  },
  {
   "cell_type": "markdown",
   "metadata": {},
   "source": [
    "## 2. Previewing Your Data"
   ]
  },
  {
   "cell_type": "code",
   "execution_count": null,
   "metadata": {},
   "outputs": [],
   "source": [
    "# Preview first 5 rows\n",
    "df_csv.head()"
   ]
  },
  {
   "cell_type": "code",
   "execution_count": null,
   "metadata": {},
   "outputs": [],
   "source": [
    "# Get data summary\n",
    "df_csv.info()"
   ]
  },
  {
   "cell_type": "code",
   "execution_count": null,
   "metadata": {},
   "outputs": [],
   "source": [
    "# Check number of rows and columns\n",
    "df_csv.shape"
   ]
  },
  {
   "cell_type": "markdown",
   "metadata": {},
   "source": [
    "## 3. Importing Specific Columns"
   ]
  },
  {
   "cell_type": "code",
   "execution_count": null,
   "metadata": {},
   "outputs": [],
   "source": [
    "# Load only selected columns\n",
    "df_selected = pd.read_csv('data.csv', usecols=['Name', 'Marks'])\n",
    "df_selected.head()"
   ]
  },
  {
   "cell_type": "markdown",
   "metadata": {},
   "source": [
    "## 4. Exporting Cleaned Data"
   ]
  },
  {
   "cell_type": "code",
   "execution_count": null,
   "metadata": {},
   "outputs": [],
   "source": [
    "# Export to CSV and Excel without row indices\n",
    "df_selected.to_csv('cleaned_data.csv', index=False)\n",
    "df_selected.to_excel('cleaned_data.xlsx', index=False)"
   ]
  },
  {
   "cell_type": "markdown",
   "metadata": {},
   "source": [
    "## 5. Real-World Mini-Project Idea: Student Records\n",
    "- Import a messy student CSV file\n",
    "- Drop duplicates, rename columns\n",
    "- Export the cleaned version to Excel"
   ]
  },
  {
   "cell_type": "markdown",
   "metadata": {},
   "source": [
    "## 6. Common Beginner Mistake"
   ]
  },
  {
   "cell_type": "code",
   "execution_count": null,
   "metadata": {},
   "outputs": [],
   "source": [
    "# ❌ Don't forget this!\n",
    "# Saves with index (not recommended for Excel users)\n",
    "df_selected.to_csv('file_with_index.csv')\n",
    "\n",
    "# ✅ Recommended\n",
    "df_selected.to_csv('file_without_index.csv', index=False)"
   ]
  },
  {
   "cell_type": "markdown",
   "metadata": {},
   "source": [
    "## 7. Final Thoughts\n",
    "Understanding how to import, explore, and export data makes you more confident working with real-world datasets.\n",
    "\n",
    "**Next steps:** Practice on your own dataset!"
   ]
  },
  {
   "cell_type": "markdown",
   "id": "ee5ae93a",
   "metadata": {},
   "source": [
    "---"
   ]
  },
  {
   "cell_type": "markdown",
   "id": "2cc8e1f5",
   "metadata": {},
   "source": []
  }
 ],
 "metadata": {
  "kernelspec": {
   "display_name": "Python 3",
   "language": "python",
   "name": "python3"
  },
  "language_info": {
   "name": "python",
   "version": "3.x"
  }
 },
 "nbformat": 4,
 "nbformat_minor": 5
}
