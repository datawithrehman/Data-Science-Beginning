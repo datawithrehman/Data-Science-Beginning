{
 "cells": [
  {
   "cell_type": "markdown",
   "id": "516e2ca8",
   "metadata": {},
   "source": [
    "### Author : __AbdulRehman__\n",
    "Created on : 16-07-2025"
   ]
  },
  {
   "cell_type": "markdown",
   "id": "6f8be989",
   "metadata": {},
   "source": [
    "# Data Transformation with Pandas: A Beginner's Guide (Titanic Dataset)"
   ]
  },
  {
   "cell_type": "markdown",
   "id": "b8a23ec3",
   "metadata": {},
   "source": [
    "This Jupyter Notebook demonstrates essential data transformation techniques using the Pandas library in Python, applied to the well-known Titanic dataset."
   ]
  },
  {
   "cell_type": "markdown",
   "id": "0868a0ef",
   "metadata": {},
   "source": [
    "## 1. Loading and Understanding Your Data"
   ]
  },
  {
   "cell_type": "markdown",
   "id": "1000eacf",
   "metadata": {},
   "source": [
    "First, we load the Titanic dataset using Seaborn. It's crucial to inspect the data's structure, identify missing values, and understand data types before any transformations."
   ]
  },
  {
   "cell_type": "code",
   "execution_count": null,
   "id": "c6c9e04e",
   "metadata": {},
   "outputs": [],
   "source": [
    "import seaborn as sns\n",
    "import pandas as pd"
   ]
  },
  {
   "cell_type": "code",
   "execution_count": null,
   "id": "a41cece2",
   "metadata": {},
   "outputs": [],
   "source": [
    "df = sns.load_dataset('titanic')"
   ]
  },
  {
   "cell_type": "code",
   "execution_count": null,
   "id": "afb45674",
   "metadata": {},
   "outputs": [],
   "source": [
    "print(\"### First 5 rows of the dataset:\")\n",
    "print(df.head())"
   ]
  },
  {
   "cell_type": "code",
   "execution_count": null,
   "id": "52187ac9",
   "metadata": {},
   "outputs": [],
   "source": [
    "print(\"\\n### Dataset Information (Data Types and Non-Null Counts):\")\n",
    "print(df.info())"
   ]
  },
  {
   "cell_type": "code",
   "execution_count": null,
   "id": "4bcf3eb5",
   "metadata": {
    "lines_to_next_cell": 2
   },
   "outputs": [],
   "source": [
    "print(\"\\n### Descriptive Statistics:\")\n",
    "print(df.describe(include='all'))"
   ]
  },
  {
   "cell_type": "markdown",
   "id": "da2974a0",
   "metadata": {},
   "source": [
    "## 2. Handling Missing Values"
   ]
  },
  {
   "cell_type": "markdown",
   "id": "f975b684",
   "metadata": {},
   "source": [
    "Missing data is a common challenge. We'll demonstrate strategies for numerical and categorical columns."
   ]
  },
  {
   "cell_type": "markdown",
   "id": "0d0213c6",
   "metadata": {},
   "source": [
    "### Handling Missing 'Age' Values"
   ]
  },
  {
   "cell_type": "markdown",
   "id": "7604a644",
   "metadata": {},
   "source": [
    "For numerical columns like 'age', filling missing values with the median is a robust strategy as it's less sensitive to outliers than the mean."
   ]
  },
  {
   "cell_type": "code",
   "execution_count": null,
   "id": "fa68279c",
   "metadata": {
    "lines_to_next_cell": 2
   },
   "outputs": [],
   "source": [
    "print(\"\\n### Missing values in 'age' before filling:\", df['age'].isnull().sum())\n",
    "df['age'].fillna(df['age'].median(), inplace=True)\n",
    "print(\"### Missing values in 'age' after filling:\", df['age'].isnull().sum())"
   ]
  },
  {
   "cell_type": "markdown",
   "id": "391b8fa3",
   "metadata": {},
   "source": [
    "### Handling Missing 'Embarked' and 'Deck' Values"
   ]
  },
  {
   "cell_type": "markdown",
   "id": "3e137100",
   "metadata": {},
   "source": [
    "For categorical columns like 'embarked', filling with the mode (most frequent value) is often appropriate. Columns with a very high percentage of missing values, like 'deck', are often best dropped."
   ]
  },
  {
   "cell_type": "code",
   "execution_count": null,
   "id": "3596173b",
   "metadata": {},
   "outputs": [],
   "source": [
    "print(\"\\n### Missing values in 'embarked' before filling:\", df['embarked'].isnull().sum())\n",
    "df['embarked'].fillna(df['embarked'].mode()[0], inplace=True)\n",
    "print(\"### Missing values in 'embarked' after filling:\", df['embarked'].isnull().sum())"
   ]
  },
  {
   "cell_type": "code",
   "execution_count": null,
   "id": "46c399c8",
   "metadata": {
    "lines_to_next_cell": 2
   },
   "outputs": [],
   "source": [
    "print(\"\\n### Missing values in 'deck' before dropping:\", df['deck'].isnull().sum())\n",
    "df.drop('deck', axis=1, inplace=True)\n",
    "print(\"### 'deck' column dropped. Current columns:\", df.columns.tolist())"
   ]
  },
  {
   "cell_type": "markdown",
   "id": "5121d662",
   "metadata": {},
   "source": [
    "## 3. Creating New Features (Feature Engineering)"
   ]
  },
  {
   "cell_type": "markdown",
   "id": "dbd86ae5",
   "metadata": {},
   "source": [
    "Feature engineering involves creating new, more informative features from existing ones. This can significantly improve model performance."
   ]
  },
  {
   "cell_type": "markdown",
   "id": "91217cc3",
   "metadata": {},
   "source": [
    "### Creating 'Family Size'"
   ]
  },
  {
   "cell_type": "markdown",
   "id": "c7ce89dc",
   "metadata": {},
   "source": [
    "We'll create a 'family_size' feature by summing 'sibsp' (siblings/spouses) and 'parch' (parents/children) and adding 1 for the individual themselves."
   ]
  },
  {
   "cell_type": "code",
   "execution_count": null,
   "id": "cd855458",
   "metadata": {
    "lines_to_next_cell": 2
   },
   "outputs": [],
   "source": [
    "df['family_size'] = df['sibsp'] + df['parch'] + 1\n",
    "print(\"\\n### 'family_size' feature created:\")\n",
    "print(df[['sibsp', 'parch', 'family_size']].head())"
   ]
  },
  {
   "cell_type": "markdown",
   "id": "33733af0",
   "metadata": {},
   "source": [
    "### Creating 'Is Alone'"
   ]
  },
  {
   "cell_type": "markdown",
   "id": "ddcc1640",
   "metadata": {},
   "source": [
    "Building on 'family_size', we can derive a binary 'is_alone' feature, indicating whether a passenger was traveling without family."
   ]
  },
  {
   "cell_type": "code",
   "execution_count": null,
   "id": "a6b3f793",
   "metadata": {
    "lines_to_next_cell": 2
   },
   "outputs": [],
   "source": [
    "df['is_alone'] = (df['family_size'] == 1).astype(int)\n",
    "print(\"\\n### 'is_alone' feature created:\")\n",
    "print(df[['family_size', 'is_alone']].head())"
   ]
  },
  {
   "cell_type": "markdown",
   "id": "c339bb13",
   "metadata": {},
   "source": [
    "## 4. Encoding Categorical Variables"
   ]
  },
  {
   "cell_type": "markdown",
   "id": "3ce1aeed",
   "metadata": {},
   "source": [
    "Machine learning models typically require numerical input. Categorical variables need to be converted."
   ]
  },
  {
   "cell_type": "markdown",
   "id": "244becb2",
   "metadata": {},
   "source": [
    "### One-Hot Encoding 'Sex' and 'Embarked'"
   ]
  },
  {
   "cell_type": "markdown",
   "id": "4ccea342",
   "metadata": {},
   "source": [
    "One-hot encoding is a common technique where each category becomes a new binary (0 or 1) column. We use `drop_first=True` to avoid multicollinearity."
   ]
  },
  {
   "cell_type": "code",
   "execution_count": null,
   "id": "7248794d",
   "metadata": {
    "lines_to_next_cell": 2
   },
   "outputs": [],
   "source": [
    "df = pd.get_dummies(df, columns=['sex', 'embarked'], drop_first=True)\n",
    "print(\"\\n### After One-Hot Encoding 'sex' and 'embarked':\")\n",
    "print(df[['sex_male', 'embarked_Q', 'embarked_S']].head())\n",
    "print(df.info())"
   ]
  },
  {
   "cell_type": "markdown",
   "id": "7feacac7",
   "metadata": {},
   "source": [
    "## 5. Data Type Conversion"
   ]
  },
  {
   "cell_type": "markdown",
   "id": "9acf7315",
   "metadata": {},
   "source": [
    "Converting data types can optimize memory usage or prepare data for specific operations."
   ]
  },
  {
   "cell_type": "markdown",
   "id": "9b506a2d",
   "metadata": {},
   "source": [
    "### Converting 'Fare' to Integer"
   ]
  },
  {
   "cell_type": "markdown",
   "id": "bf017e3d",
   "metadata": {},
   "source": [
    "If high precision isn't required, converting a float column like 'fare' to an integer can save memory and simplify analysis."
   ]
  },
  {
   "cell_type": "code",
   "execution_count": null,
   "id": "19025f11",
   "metadata": {},
   "outputs": [],
   "source": [
    "df['fare'] = df['fare'].astype(int)\n",
    "print(\"\\n### 'fare' column after converting to integer:\")\n",
    "print(df['fare'].head())\n",
    "print(df['fare'].dtype)"
   ]
  },
  {
   "cell_type": "code",
   "execution_count": null,
   "id": "59c53e0a",
   "metadata": {},
   "outputs": [],
   "source": [
    "print(\"\\n### Final DataFrame Info after all transformations:\")\n",
    "print(df.info())"
   ]
  },
  {
   "cell_type": "code",
   "execution_count": null,
   "id": "5f5a8355",
   "metadata": {},
   "outputs": [],
   "source": []
  }
 ],
 "metadata": {
  "jupytext": {
   "cell_metadata_filter": "-all",
   "encoding": "# -*- coding: utf-8 -*-",
   "main_language": "python",
   "notebook_metadata_filter": "-all"
  },
  "language_info": {
   "name": "python"
  }
 },
 "nbformat": 4,
 "nbformat_minor": 5
}
