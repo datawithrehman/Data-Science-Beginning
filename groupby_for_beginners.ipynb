{
 "cells": [
  {
   "cell_type": "markdown",
   "metadata": {},
   "source": [
    "# Understanding pandas `groupby()` for Beginners\n",
    "\n",
    "## Introduction\n",
    "\n",
    "In data analysis, you often need to summarize data by categories. For example, you might want to find the average sales for each product category, or the total quantity sold per region. The `groupby()` function in pandas is an incredibly powerful tool that allows you to do just that. It’s similar to the “PivotTable” feature in Excel, but with much more flexibility and power in Python.\n",
    "\n",
    "At its core, `groupby()` involves three steps: \n",
    "1.  **Splitting** the data into groups based on some criteria.\n",
    "2.  **Applying** a function (like `mean()`, `sum()`, `count()`, etc.) to each group independently.\n",
    "3.  **Combining** the results into a single data structure.\n",
    "\n",
    "Let’s dive into some examples to see how it works!"
   ]
  },
  {
   "cell_type": "markdown",
   "metadata": {},
   "source": [
    "## Setup: Creating a Sample DataFrame\n",
    "\n",
    "First, let’s create a sample pandas DataFrame that we’ll use throughout this notebook. This DataFrame represents some fictional sales data."
   ]
  },
  {
   "cell_type": "code",
   "execution_count": null,
   "metadata": {},
   "outputs": [],
   "source": [
    "import pandas as pd\n",
    "import numpy as np\n",
    "\n",
    "data = {\n",
    "    'Product': ['A', 'B', 'A', 'C', 'B', 'C', 'A', 'B'],\n",
    "    'Category': ['Electronics', 'Clothing', 'Electronics', 'Home', 'Clothing', 'Home', 'Electronics', 'Clothing'],\n",
    "    'Region': ['East', 'West', 'East', 'North', 'West', 'North', 'East', 'West'],\n",
    "    'Sales': [100, 150, 120, 80, 200, 90, 110, 180],\n",
    "    'Quantity': [2, 3, 2, 1, 4, 1, 2, 3]\n",
    "}\n",
    "\n",
    "df = pd.DataFrame(data)\n",
    "print(\"Original DataFrame:\")\n",
    "print(df)"
   ]
  },
  {
   "cell_type": "markdown",
   "metadata": {},
   "source": [
    "## Grouping by a Single Column\n",
    "\n",
    "The most common use case for `groupby()` is to group data by a single column and then apply an aggregation function. Let’s find the average sales for each product category."
   ]
  },
  {
   "cell_type": "code",
   "execution_count": null,
   "metadata": {},
   "outputs": [],
   "source": [
    "# Group by 'Category' and calculate the mean of 'Sales'\n",
    "category_sales_mean = df.groupby(\"Category\")[\"Sales\"].mean()\n",
    "print(\"\\nAverage Sales by Category:\")\n",
    "print(category_sales_mean)"
   ]
  },
  {
   "cell_type": "markdown",
   "metadata": {},
   "source": [
    "In the example above, `df.groupby(\"Category\")` splits the DataFrame into groups based on unique values in the ‘Category’ column. Then, `[\"Sales\"].mean()` calculates the average of the ‘Sales’ column for each of these groups."
   ]
  },
  {
   "cell_type": "markdown",
   "metadata": {},
   "source": [
    "## Performing Multiple Aggregations\n",
    "\n",
    "You’re not limited to just one aggregation. You can apply multiple aggregation functions to one or more columns using the `.agg()` method. This is incredibly flexible.\n",
    "\n",
    "Let’s find the mean sales, total quantity, and the minimum and maximum sales for each category."
   ]
  },
  {
   "cell_type": "code",
   "execution_count": null,
   "metadata": {},
   "outputs": [],
   "source": [
    "# Group by 'Category' and apply multiple aggregations\n",
    "multi_agg_by_category = df.groupby(\"Category\").agg(\n",
    "    Sales_Mean=(\"Sales\", \"mean\"),\n",
    "    Quantity_Sum=(\"Quantity\", \"sum\"),\n",
    "    Sales_Min=(\"Sales\", \"min\"),\n",
    "    Sales_Max=(\"Sales\", \"max\")\n",
    ")\n",
    "print(\"\\nMultiple Aggregations by Category:\")\n",
    "print(multi_agg_by_category)"
   ]
  },
  {
   "cell_type": "markdown",
   "metadata": {},
   "source": [
    "Here, we’ve used a dictionary-like syntax within `.agg()` to specify the new column names and the aggregation functions to apply."
   ]
  },
  {
   "cell_type": "markdown",
   "metadata": {},
   "source": [
    "## Grouping by Multiple Columns\n",
    "\n",
    "Sometimes, you need to group your data based on more than one criterion. For instance, you might want to see the average sales per product category *and* per region. You can do this by passing a list of column names to `groupby()`."
   ]
  },
  {
   "cell_type": "code",
   "execution_count": null,
   "metadata": {},
   "outputs": [],
   "source": [
    "# Group by 'Category' and 'Region' and calculate the mean of 'Sales'\n",
    "category_region_sales_mean = df.groupby([\"Category\", \"Region\"])[\"Sales\"].mean()\n",
    "print(\"\\nAverage Sales by Category and Region:\")\n",
    "print(category_region_sales_mean)"
   ]
  },
  {
   "cell_type": "markdown",
   "metadata": {},
   "source": [
    "Notice that when you group by multiple columns, pandas creates a `MultiIndex` (hierarchical index) in the result. This is powerful for multi-dimensional analysis."
   ]
  },
  {
   "cell_type": "markdown",
   "metadata": {},
   "source": [
    "## Flattening the Result with `.reset_index()`\n",
    "\n",
    "As seen in the previous example, `groupby()` often returns a Series or DataFrame with one or more columns set as the index. While this can be useful, sometimes you want these grouped columns back as regular columns in your DataFrame. This is where `.reset_index()` comes in handy."
   ]
  },
  {
   "cell_type": "code",
   "execution_count": null,
   "metadata": {},
   "outputs": [],
   "source": [
    "# Group by 'Category' and 'Region' and calculate the mean of 'Sales', then reset the index\n",
    "category_region_sales_mean_flat = df.groupby([\"Category\", \"Region\"])[\"Sales\"].mean().reset_index()\n",
    "print(\"\\nAverage Sales by Category and Region (with reset_index()):\")\n",
    "print(category_region_sales_mean_flat)"
   ]
  },
  {
   "cell_type": "markdown",
   "metadata": {},
   "source": [
    "Using `.reset_index()` converts the MultiIndex back into regular columns, making the result easier to work with, especially if you plan further operations or want to export the data."
   ]
  },
  {
   "cell_type": "markdown",
   "metadata": {},
   "source": [
    "## Mini Challenge: Group by Product and find Total Quantity\n",
    "\n",
    "Now it’s your turn! Using the `df` DataFrame, try to group by the ‘Product’ column and find the total ‘Quantity’ sold for each product. Remember to use `.reset_index()` to get a clean DataFrame as your result."
   ]
  },
  {
   "cell_type": "code",
   "execution_count": null,
   "metadata": {},
   "outputs": [],
   "source": [
    "# Your code here:\n",
    "product_quantity_sum = df.groupby(\"Product\")[\"Quantity\"].sum().reset_index()\n",
    "print(product_quantity_sum)"
   ]
  },
  {
   "cell_type": "markdown",
   "metadata": {},
   "source": [
    "## Conclusion\n",
    "\n",
    "The `groupby()` function is a cornerstone of data analysis with pandas. Mastering it allows you to quickly summarize, aggregate, and gain insights from your data. Experiment with different aggregation functions and grouping combinations to unlock its full potential!"
   ]
  }
 ],
 "metadata": {
  "kernelspec": {
   "display_name": "Python 3",
   "language": "python",
   "name": "python3"
  },
  "language_info": {
   "codemirror_mode": {
    "name": "ipython",
    "version": 3
   },
   "file_extension": ".py",
   "mimetype": "text/x-python",
   "name": "python",
   "nbconvert_exporter": "python",
   "pygments_lexer": "ipython3",
   "version": "3.11.0rc1"
  }
 },
 "nbformat": 4,
 "nbformat_minor": 4
}

