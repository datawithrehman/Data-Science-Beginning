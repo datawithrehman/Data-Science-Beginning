{
 "cells": [
  {
   "cell_type": "markdown",
   "id": "f034ae4d",
   "metadata": {},
   "source": [
    "---\n",
    "## 📘 Author Information\n",
    "\n",
    "**👨‍💻 Name:** Abdul Rehman  \n",
    "**📌 Role:** Data Science Enthusiast | Python Learner  \n",
    "**📅 Notebook Created:** July 2025  \n",
    "\n",
    "**🔗 Connect with Me:**  \n",
    "\n",
    "\n",
    "[![LinkedIn](https://img.shields.io/badge/LinkedIn-blue?style=flat&logo=linkedin&logoColor=white)](https://www.linkedin.com/in/abdul-rehman-74b418350/)\n",
    "[![GitHub](https://img.shields.io/badge/GitHub-black?style=flat&logo=github&logoColor=white)](https://github.com/datawithrehman/Data-Science-Beginning)\n",
    "[![Twitter](https://img.shields.io/badge/Twitter-blue?style=flat&logo=twitter&logoColor=white)](https://x.com/datawithrehman)\n"
   ]
  },
  {
   "cell_type": "markdown",
   "metadata": {},
   "source": [
    "# 🔍 Introduction to Data Filtering in Python\n",
    "\n",
    "Filtering is the process of extracting specific rows or subsets of data from a dataset based on conditions or rules. It’s crucial for data wrangling and exploratory data analysis (EDA).\n"
   ]
  },
  {
   "cell_type": "markdown",
   "metadata": {},
   "source": [
    "## 🧰 Why Do We Filter Data?\n",
    "- Remove irrelevant or noisy data\n",
    "- Focus on specific patterns, dates, or groups\n",
    "- Prepare for visualization, modeling, or summaries"
   ]
  },
  {
   "cell_type": "code",
   "execution_count": null,
   "metadata": {},
   "outputs": [],
   "source": [
    "# 📦 Step 1: Import pandas and read your data\n",
    "import pandas as pd\n",
    "# Sample data for demonstration\n",
    "data = {\n",
    "    'name': ['Alice', 'Bob', 'Charlie', 'David'],\n",
    "    'age': [25, 32, 45, 22],\n",
    "    'gender': ['Female', 'Male', 'Male', 'Male'],\n",
    "    'income': [50000, 60000, 55000, 40000],\n",
    "    'city': ['New York', 'Los Angeles', 'Chicago', 'New York'],\n",
    "    'status': ['Active', 'Inactive', 'Active', 'Inactive']\n",
    "}\n",
    "df = pd.DataFrame(data)\n",
    "df"
   ]
  },
  {
   "cell_type": "code",
   "execution_count": null,
   "metadata": {},
   "outputs": [],
   "source": [
    "# 🔍 Step 2: Filter Rows Based on a Condition\n",
    "# Filter all rows where age > 30\n",
    "df[df['age'] > 30]"
   ]
  },
  {
   "cell_type": "code",
   "execution_count": null,
   "metadata": {},
   "outputs": [],
   "source": [
    "# 🧠 Multiple Conditions (AND / OR)\n",
    "# Age > 30 AND gender is Male\n",
    "df[(df['age'] > 30) & (df['gender'] == 'Male')]"
   ]
  },
  {
   "cell_type": "code",
   "execution_count": null,
   "metadata": {},
   "outputs": [],
   "source": [
    "# Age < 25 OR income > 50000\n",
    "df[(df['age'] < 25) | (df['income'] > 50000)]"
   ]
  },
  {
   "cell_type": "code",
   "execution_count": null,
   "metadata": {},
   "outputs": [],
   "source": [
    "# 🎯 Filter Based on Specific Values\n",
    "# Rows where city is either New York or Los Angeles\n",
    "df[df['city'].isin(['New York', 'Los Angeles'])]"
   ]
  },
  {
   "cell_type": "code",
   "execution_count": null,
   "metadata": {},
   "outputs": [],
   "source": [
    "# 🚫 Exclude Rows (NOT condition)\n",
    "# Exclude rows where status is Inactive\n",
    "df[df['status'] != 'Inactive']"
   ]
  },
  {
   "cell_type": "markdown",
   "metadata": {},
   "source": [
    "## ✅ Summary Table\n",
    "| Task | Syntax |\n",
    "|------|--------|\n",
    "| Filter by single condition | `df[df['col'] > value]` |\n",
    "| Multiple conditions (AND/OR) | `(cond1) & (cond2)` or `(cond1) | (cond2)` |\n",
    "| Specific values | `df[df['col'].isin([..])]` |\n",
    "| Exclude rows | `df[df['col'] != value]` |"
   ]
  }
 ],
 "metadata": {
  "kernelspec": {
   "display_name": "Python 3",
   "language": "python",
   "name": "python3"
  },
  "language_info": {
   "name": "python",
   "version": "3.9"
  }
 },
 "nbformat": 4,
 "nbformat_minor": 5
}
