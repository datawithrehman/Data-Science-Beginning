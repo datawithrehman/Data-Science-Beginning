{
 "cells": [
  {
   "cell_type": "markdown",
   "metadata": {},
   "source": [
    "---\n",
    "##  Author Information\n",
    "\n",
    "**Name:** Abdul Rehman  \n",
    "**Role:** Data Science Enthusiast | Python Learner  \n",
    "**Notebook Created:** July 2025  \n",
    "\n",
    "**Connect with Me:**  \n",
    "\n",
    "\n",
    "[![LinkedIn](https://img.shields.io/badge/LinkedIn-blue?style=flat&logo=linkedin&logoColor=white)](https://www.linkedin.com/in/abdul-rehman-74b418350/)\n",
    "[![GitHub](https://img.shields.io/badge/GitHub-black?style=flat&logo=github&logoColor=white)](https://github.com/datawithrehman/Data-Science-Beginning)\n",
    "[![Twitter](https://img.shields.io/badge/Twitter-blue?style=flat&logo=twitter&logoColor=white)](https://x.com/datawithrehman)\n",
    "\n"
   ]
  },
  {
   "cell_type": "markdown",
   "metadata": {},
   "source": [
    "# Pandas Notebook: Understanding Simple Data"
   ]
  },
  {
   "cell_type": "markdown",
   "metadata": {},
   "source": [
    "**Hello there!** This notebook is designed to be a super easy introduction to working with data using Python. We'll learn some basic steps without getting lost in complicated details. Think of it as your first step into the exciting world of data science!"
   ]
  },
  {
   "cell_type": "markdown",
   "metadata": {},
   "source": [
    "## 1. Our Simple Data\n",
    "We're going to use a very small and easy-to-understand dataset. It's about some fruits and their quantities. This will help us focus on the basic tools without being overwhelmed by too much information."
   ]
  },
  {
   "cell_type": "code",
   "execution_count": null,
   "metadata": {},
   "outputs": [],
   "source": [
    "import pandas as pd\n",
    "\n",
    "# Let's create our simple data\n",
    "data = {\n",
    "    'Fruit': ['Apple', 'Banana', 'Orange', 'Apple', 'Grape'],\n",
    "    'Quantity': [10, 15, 8, 12, 5],\n",
    "    'Price_per_kg': [1.5, 0.8, 2.0, 1.6, 3.0]\n",
    "}\n",
    "\n",
    "df = pd.DataFrame(data)\n",
    "\n",
    "print(\"Here's our data:\")\n",
    "print(df.to_string())"
   ]
  },
  {
   "cell_type": "markdown",
   "metadata": {},
   "source": [
    "## 2. Getting to Know Our Data (Basic Exploration)\n",
    "When you get new data, the first thing you want to do is take a quick look. This helps you understand what's inside."
   ]
  },
  {
   "cell_type": "markdown",
   "metadata": {},
   "source": [
    "### 2.1. See the First Few Rows (`.head()`)\n",
    "The `.head()` command shows you the top 5 rows of your data. It's like peeking at the beginning of a book."
   ]
  },
  {
   "cell_type": "code",
   "execution_count": null,
   "metadata": {},
   "outputs": [],
   "source": [
    "print(\"First 3 rows of our data:\")\n",
    "print(df.head(3).to_string())"
   ]
  },
  {
   "cell_type": "markdown",
   "metadata": {},
   "source": [
    "### 2.2. Quick Summary (`.info()` and `.describe()`)\n",
    "- `.info()` tells us about the columns: their names, how many entries they have, and what kind of data they hold (like numbers or text).\n",
    "- `.describe()` gives us a quick math summary for number columns: like the average, smallest, and largest values."
   ]
  },
  {
   "cell_type": "code",
   "execution_count": null,
   "metadata": {},
   "outputs": [],
   "source": [
    "print(\"Data Info:\")\n",
    "df.info()\n",
    "\n",
    "print(\"\\nData Description (numbers only):\")\n",
    "print(df.describe().to_string())"
   ]
  },
  {
   "cell_type": "markdown",
   "metadata": {},
   "source": [
    "### 2.3. Simple Visualizations\n",
    "Pictures (or charts) can tell us a lot about data very quickly! Let's make a simple bar chart to see quantities of fruits."
   ]
  },
  {
   "cell_type": "code",
   "execution_count": null,
   "metadata": {},
   "outputs": [],
   "source": [
    "import matplotlib.pyplot as plt\n",
    "import seaborn as sns\n",
    "\n",
    "# Make a bar chart of Fruit Quantities\n",
    "plt.figure(figsize=(8, 5))\n",
    "sns.barplot(x='Fruit', y='Quantity', data=df)\n",
    "plt.title('Quantity of Each Fruit')\n",
    "plt.xlabel('Fruit Type')\n",
    "plt.ylabel('Quantity')\n",
    "plt.show()"
   ]
  },
  {
   "cell_type": "markdown",
   "metadata": {},
   "source": [
    "## 3. Basic Data Manipulation\n",
    "Sometimes you only need certain parts of your data, or you need to fix small issues. Here's how to do some basic changes."
   ]
  },
  {
   "cell_type": "markdown",
   "metadata": {},
   "source": [
    "### 3.1. Selecting Columns\n",
    "You can pick just one column or a few columns from your data. It's like choosing specific lists from a big table."
   ]
  },
  {
   "cell_type": "code",
   "execution_count": null,
   "metadata": {},
   "outputs": [],
   "source": [
    "# Select just the 'Fruit' column\n",
    "fruits_only = df['Fruit']\n",
    "print(\"Just the fruits:\")\n",
    "print(fruits_only.to_string())\n",
    "\n",
    "# Select 'Fruit' and 'Quantity' columns\n",
    "fruit_quantity = df[['Fruit', 'Quantity']]\n",
    "print(\"\\nFruits and their quantities:\")\n",
    "print(fruit_quantity.to_string())"
   ]
  },
  {
   "cell_type": "markdown",
   "metadata": {},
   "source": [
    "### 3.2. Filtering Data (Picking Rows)\n",
    "You can filter your data to see only the rows that meet a certain condition. For example, only fruits with a quantity greater than 10."
   ]
  },
  {
   "cell_type": "code",
   "execution_count": null,
   "metadata": {},
   "outputs": [],
   "source": [
    "# Filter for fruits with Quantity greater than 10\n",
    "high_quantity_fruits = df[df['Quantity'] > 10]\n",
    "print(\"Fruits with quantity > 10:\")\n",
    "print(high_quantity_fruits.to_string())"
   ]
  },
  {
   "cell_type": "markdown",
   "metadata": {},
   "source": [
    "### 3.3. Handling Missing Values (`fillna()`)\n",
    "Sometimes, data might be missing (shown as `NaN`). We can fill these missing spots with a value, like 0, or the average. For this simple example, let's add a missing value and then fill it."
   ]
  },
  {
   "cell_type": "code",
   "execution_count": null,
   "metadata": {},
   "outputs": [],
   "source": [
    "# Let's create a new DataFrame with a missing value\n",
    "data_with_nan = {\n",
    "    'Item': ['Pen', 'Book', 'Eraser'],\n",
    "    'Stock': [100, None, 50]\n",
    "}\n",
    "df_nan = pd.DataFrame(data_with_nan)\n",
    "print(\"Original data with missing value:\")\n",
    "print(df_nan.to_string())\n",
    "\n",
    "# Fill missing 'Stock' values with 0\n",
    "df_filled = df_nan.fillna({'Stock': 0})\n",
    "print(\"\\nData after filling missing 'Stock' with 0:\")\n",
    "print(df_filled.to_string())"
   ]
  }
 ],
 "metadata": {
  "kernelspec": {
   "display_name": "Python 3",
   "language": "python",
   "name": "python3"
  },
  "language_info": {
   "codemirror_mode": {
    "name": "ipython",
    "version": 3
   },
   "file_extension": ".py",
   "mimetype": "text/x-python",
   "name": "python",
   "nbconvert_exporter": "python",
   "pygments_lexer": "ipython3",
   "version": "3.11.0rc1"
  }
 },
 "nbformat": 4,
 "nbformat_minor": 4
}
