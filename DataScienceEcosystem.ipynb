{
  "metadata": {
    "kernelspec": {
      "name": "python",
      "display_name": "Python (Pyodide)",
      "language": "python"
    },
    "language_info": {
      "codemirror_mode": {
        "name": "python",
        "version": 3
      },
      "file_extension": ".py",
      "mimetype": "text/x-python",
      "name": "python",
      "nbconvert_exporter": "python",
      "pygments_lexer": "ipython3",
      "version": "3.8"
    }
  },
  "nbformat_minor": 5,
  "nbformat": 4,
  "cells": [
    {
      "id": "55f57f62-d89e-49d5-a36d-e0cea82f8509",
      "cell_type": "markdown",
      "source": "# Data Science Tools and Ecosystem",
      "metadata": {}
    },
    {
      "id": "4c087a99-5150-479f-b5d9-c1ba4e289676",
      "cell_type": "markdown",
      "source": "In this notebook, Data Science Tools and Ecosystem are summarized.",
      "metadata": {}
    },
    {
      "id": "53729345-ee6d-4916-86dd-740d4865126d",
      "cell_type": "markdown",
      "source": "Some of the popular languages that Data Scientists use are:\n1. Pyhton\n2. R\n3. Julia\n4. Ruby",
      "metadata": {}
    },
    {
      "id": "f1fd152d-b431-4e65-a4d7-d26bcb4e2946",
      "cell_type": "markdown",
      "source": "Some of the commonly used libraries used by Data Scientists include:\n1. Pandas\n2. Numpy\n3. Seaborn\n4. Matplotlib",
      "metadata": {}
    },
    {
      "id": "e241da5e-3b09-4fd8-b2a2-f947e8948cb8",
      "cell_type": "markdown",
      "source": "|Data Science Tools|\n|------------------|\n|Jupyter|\n|SQL|\n|Python|",
      "metadata": {}
    },
    {
      "id": "e9f13e53-c6ea-4bee-bb0f-3626557ec084",
      "cell_type": "code",
      "source": "#This a simple arithmetic expression to mutiply then add integers\n\n(3*4)+5",
      "metadata": {
        "trusted": true
      },
      "outputs": [
        {
          "execution_count": 2,
          "output_type": "execute_result",
          "data": {
            "text/plain": "17"
          },
          "metadata": {}
        }
      ],
      "execution_count": 2
    },
    {
      "id": "befc0adb-cebf-4db5-b01d-e11e96f786e8",
      "cell_type": "code",
      "source": "#This will convert 200 minutes to hours by diving by 60\n200/60",
      "metadata": {
        "trusted": true
      },
      "outputs": [
        {
          "execution_count": 3,
          "output_type": "execute_result",
          "data": {
            "text/plain": "3.3333333333333335"
          },
          "metadata": {}
        }
      ],
      "execution_count": 3
    },
    {
      "id": "9993c6b3-190f-481a-9f91-d68f697df2c8",
      "cell_type": "markdown",
      "source": "**Objectives:**\n- List popular languages for Data Science\n- List commonly used libraries for Data Science\n- Create markdown cells and code cells in Jupyter Notebook\n- Perform basic arithmetic operations in Python\n- Convert time units using Python expressions",
      "metadata": {}
    },
    {
      "id": "c8f758a0-a7cf-4c30-9bd0-d79971a58bc2",
      "cell_type": "markdown",
      "source": "## Author: \nAbdulrehman",
      "metadata": {}
    },
    {
      "id": "1c2b7eae-2e33-4152-8f7a-52d22a1a0ae8",
      "cell_type": "markdown",
      "source": "",
      "metadata": {}
    }
  ]
}