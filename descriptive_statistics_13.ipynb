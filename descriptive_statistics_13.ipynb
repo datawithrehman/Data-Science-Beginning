{
 "cells": [
  {
   "cell_type": "markdown",
   "id": "bb30d0a4",
   "metadata": {},
   "source": [
    "---\n",
    "## 📘 Author Information\n",
    "\n",
    "**👨‍💻 Name:** Abdul Rehman  \n",
    "**📌 Role:** Data Science Enthusiast | Python Learner  \n",
    "**📅 Notebook Created:** July 2025  \n",
    "\n",
    "**🔗 Connect with Me:**  \n",
    "\n",
    "\n",
    "[![LinkedIn](https://img.shields.io/badge/LinkedIn-blue?style=flat&logo=linkedin&logoColor=white)](https://www.linkedin.com/in/abdul-rehman-74b418350/)\n",
    "[![GitHub](https://img.shields.io/badge/GitHub-black?style=flat&logo=github&logoColor=white)](https://github.com/datawithrehman/Data-Science-Beginning)\n",
    "[![Twitter](https://img.shields.io/badge/Twitter-blue?style=flat&logo=twitter&logoColor=white)](https://x.com/datawithrehman)\n",
    "\n"
   ]
  },
  {
   "cell_type": "markdown",
   "id": "452e57b1",
   "metadata": {},
   "source": [
    "# Descriptive Statistics with Pandas\n",
    "\n",
    "## Introduction\n",
    "\n",
    "Welcome to this beginner-friendly guide on performing descriptive statistics using the powerful pandas library in Python! Descriptive statistics help us summarize and understand the main features of a dataset. Instead of sifting through raw data, we can quickly get insights into its central tendency, variability, and distribution.\n",
    "\n",
    "This notebook will cover essential pandas functions like `describe()`, `mean()`, `median()`, `std()`, `mode()`, and `value_counts()`, along with practical examples.\n",
    "\n",
    "\n",
    "## 1. Getting Started: Importing Pandas and Creating a DataFrame\n",
    "\n",
    "First, let's import the pandas library and create a sample DataFrame that we'll use throughout this tutorial."
   ]
  },
  {
   "cell_type": "code",
   "execution_count": null,
   "id": "f6fd13b8",
   "metadata": {},
   "outputs": [],
   "source": [
    "import pandas as pd\n",
    "\n",
    "# Create a sample DataFrame\n",
    "data = {\n",
    "    'Age': [25, 30, 35, 40, 45, 50, 55, 60, 65, 70, 28, 32, 38, 42, 48],\n",
    "    'Income': [50000, 60000, 75000, 80000, 90000, 100000, 110000, 120000, 130000, 140000, 55000, 68000, 82000, 95000, 105000],\n",
    "    'City': ['New York', 'Los Angeles', 'Chicago', 'Houston', 'Phoenix', 'New York', 'Los Angeles', 'Chicago', 'Houston', 'Phoenix', 'New York', 'Los Angeles', 'Chicago', 'Houston', 'Phoenix'],\n",
    "    'Gender': ['Male', 'Female', 'Male', 'Female', 'Male', 'Female', 'Male', 'Female', 'Male', 'Female', 'Male', 'Female', 'Male', 'Female', 'Male']\n",
    "}\n",
    "df = pd.DataFrame(data)\n",
    "\n",
    "print(\"Our DataFrame:\\n\")\n",
    "print(df.head())"
   ]
  },
  {
   "cell_type": "markdown",
   "id": "9b054f13",
   "metadata": {},
   "source": [
    "## 2. The Power of `df.describe()`\n",
    "\n",
    "The `describe()` method generates descriptive statistics that summarize the central tendency, dispersion, and shape of a dataset's distribution, excluding `NaN` values. It's incredibly useful for a quick overview of your numerical columns.\n",
    "\n",
    "For numerical data, `describe()` provides:\n",
    "- `count`: Number of non-null observations\n",
    "- `mean`: Arithmetic mean\n",
    "- `std`: Standard deviation\n",
    "- `min`: Minimum value\n",
    "- `25%` (Q1): 25th percentile (first quartile)\n",
    "- `50%` (Q2): 50th percentile (median)\n",
    "- `75%` (Q3): 75th percentile (third quartile)\n",
    "- `max`: Maximum value"
   ]
  },
  {
   "cell_type": "code",
   "execution_count": null,
   "id": "83ca2491",
   "metadata": {},
   "outputs": [],
   "source": [
    "print(\"\\nDescriptive statistics for numerical columns:\\n\")\n",
    "print(df.describe())"
   ]
  },
  {
   "cell_type": "markdown",
   "id": "b2e949e7",
   "metadata": {},
   "source": [
    "To include categorical columns, you can use `include='all'`:"
   ]
  },
  {
   "cell_type": "code",
   "execution_count": null,
   "id": "9058ccb7",
   "metadata": {},
   "outputs": [],
   "source": [
    "print(\"\\nDescriptive statistics for all columns (including categorical):\\n\")\n",
    "print(df.describe(include='all'))"
   ]
  },
  {
   "cell_type": "markdown",
   "id": "0e6e562c",
   "metadata": {},
   "source": [
    "## 3. Specific Statistical Measures\n",
    "\n",
    "Pandas also allows you to calculate individual statistical measures for specific columns.\n",
    "\n",
    "### Mean (`.mean()`)\n",
    "\n",
    "The average value of a column."
   ]
  },
  {
   "cell_type": "code",
   "execution_count": null,
   "id": "eee999b1",
   "metadata": {},
   "outputs": [],
   "source": [
    "print(f\"\\nAverage Age: {df['Age'].mean():.2f}\")\n",
    "print(f\"Average Income: {df['Income'].mean():.2f}\")"
   ]
  },
  {
   "cell_type": "markdown",
   "id": "7ea80a83",
   "metadata": {},
   "source": [
    "### Median (`.median()`)\n",
    "\n",
    "The middle value of a column when sorted. It's less affected by outliers than the mean."
   ]
  },
  {
   "cell_type": "code",
   "execution_count": null,
   "id": "4e49fbfe",
   "metadata": {},
   "outputs": [],
   "source": [
    "print(f\"\\nMedian Age: {df['Age'].median()}\")\n",
    "print(f\"Median Income: {df['Income'].median()}\")"
   ]
  },
  {
   "cell_type": "markdown",
   "id": "5fc1591c",
   "metadata": {},
   "source": [
    "### Standard Deviation (`.std()`)\n",
    "\n",
    "A measure of the amount of variation or dispersion of a set of values. A low standard deviation indicates that the values tend to be close to the mean, while a high standard deviation indicates that the values are spread out over a wider range."
   ]
  },
  {
   "cell_type": "code",
   "execution_count": null,
   "id": "cdfb5834",
   "metadata": {},
   "outputs": [],
   "source": [
    "print(f\"\\nStandard Deviation of Age: {df['Age'].std():.2f}\")\n",
    "print(f\"Standard Deviation of Income: {df['Income'].std():.2f}\")"
   ]
  },
  {
   "cell_type": "markdown",
   "id": "2ed6b305",
   "metadata": {},
   "source": [
    "### Mode (`.mode()`)\n",
    "\n",
    "The value that appears most frequently in a column. A column can have one mode, multiple modes, or no mode."
   ]
  },
  {
   "cell_type": "code",
   "execution_count": null,
   "id": "cdd81d20",
   "metadata": {},
   "outputs": [],
   "source": [
    "print(\"\\nMode of Age:\\n\", df['Age'].mode())\n",
    "print(\"Mode of City:\\n\", df['City'].mode())"
   ]
  },
  {
   "cell_type": "markdown",
   "id": "68753a1d",
   "metadata": {},
   "source": [
    "## 4. Analyzing Categorical Data with `value_counts()`\n",
    "\n",
    "For categorical (non-numerical) data, `value_counts()` is incredibly useful. It returns a Series containing counts of unique values. The resulting object will be in descending order so that the first element is the most frequently-occurring element."
   ]
  },
  {
   "cell_type": "code",
   "execution_count": null,
   "id": "a419cc6e",
   "metadata": {},
   "outputs": [],
   "source": [
    "print(\"\\nCounts of each City:\\n\")\n",
    "print(df['City'].value_counts())\n",
    "\n",
    "print(\"\\nCounts of each Gender:\\n\")\n",
    "print(df['Gender'].value_counts())"
   ]
  },
  {
   "cell_type": "markdown",
   "id": "f6420ba2",
   "metadata": {},
   "source": [
    "You can also get percentages by setting `normalize=True`:"
   ]
  },
  {
   "cell_type": "code",
   "execution_count": null,
   "id": "84c46864",
   "metadata": {},
   "outputs": [],
   "source": [
    "print(\"\\nPercentage of each City:\\n\")\n",
    "print(df['City'].value_counts(normalize=True))"
   ]
  },
  {
   "cell_type": "markdown",
   "id": "518ae24c",
   "metadata": {},
   "source": [
    "## 5. Common Mistake Alert: Running Numerical Stats on Text Columns\n",
    "\n",
    "It's crucial to understand your data types. Attempting to calculate numerical statistics (like `mean()`) on non-numerical (text/object) columns will result in a `TypeError`."
   ]
  },
  {
   "cell_type": "code",
   "execution_count": null,
   "id": "4fdd21b9",
   "metadata": {},
   "outputs": [],
   "source": [
    "try:\n",
    "    print(df['City'].mean())\n",
    "except TypeError as e:\n",
    "    print(f\"\\nError: {e}\\n\")\n",
    "    print(\"You cannot calculate the mean of a text (object) column. Always check your data types!\")"
   ]
  },
  {
   "cell_type": "markdown",
   "id": "bc9e1a28",
   "metadata": {},
   "source": [
    "## Mini Challenge\n",
    "\n",
    "Try to calculate the `mode()` for the 'Income' column and `value_counts()` for the 'Gender' column in the DataFrame we created. What insights can you gather from these results?"
   ]
  },
  {
   "cell_type": "code",
   "execution_count": null,
   "id": "6273b633",
   "metadata": {},
   "outputs": [],
   "source": [
    "# Your code here for the mini challenge\n",
    "# print(df['Income'].mode())\n",
    "# print(df['Gender'].value_counts())"
   ]
  },
  {
   "cell_type": "markdown",
   "id": "8c94454a",
   "metadata": {},
   "source": [
    "## Conclusion\n",
    "\n",
    "Pandas provides a robust and intuitive way to perform descriptive statistics on your datasets. These functions are fundamental for initial data exploration and understanding, helping you quickly grasp the characteristics of your data without complex operations. Keep exploring and happy analyzing!"
   ]
  }
 ],
 "metadata": {
  "language_info": {
   "name": "python"
  }
 },
 "nbformat": 4,
 "nbformat_minor": 5
}
