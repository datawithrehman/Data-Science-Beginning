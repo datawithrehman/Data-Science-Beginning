{
 "cells": [
  {
   "cell_type": "markdown",
   "id": "0cf7b94e",
   "metadata": {},
   "source": [
    "#  Fundamental Data Transformation Techniques in Pandas\n",
    "\n",
    "🔰 **Objective**: Learn and apply core data transformation techniques on customer sales data using the pandas library in Python. This includes loading, cleaning, filtering, handling missing data, and date conversions — all tailored for complete beginners."
   ]
  },
  {
   "cell_type": "code",
   "execution_count": null,
   "id": "3984ceb8",
   "metadata": {},
   "outputs": [],
   "source": [
    "# 📦 Step 1: Import Required Libraries\n",
    "import pandas as pd\n",
    "import numpy as np\n",
    "import matplotlib.pyplot as plt"
   ]
  },
  {
   "cell_type": "code",
   "execution_count": null,
   "id": "4e0c2948",
   "metadata": {},
   "outputs": [],
   "source": [
    "# 📂 Step 2: Load Customer Sales CSV File\n",
    "# Explanation: We begin by loading the customer sales dataset using pandas' read_csv method.\n",
    "# This CSV might contain messy, real-world data that we will clean and transform.\n",
    "\n",
    "try:\n",
    "    sales_df = pd.read_csv(\"\"\"<Replace this text with the CUSTOMER SALES CSV or upload a file>\"\"\")\n",
    "    print(\"✅ CSV file loaded successfully!\")\n",
    "    print(\"\\n🔎 First 5 rows of the dataset:\")\n",
    "    print(sales_df.head())\n",
    "except FileNotFoundError:\n",
    "    print(\"❌ Error: CSV file not found. Please ensure the correct file path is provided.\")"
   ]
  },
  {
   "cell_type": "code",
   "execution_count": null,
   "id": "4ebf0db6",
   "metadata": {},
   "outputs": [],
   "source": [
    "# 🧹 Step 3: Initial Data Cleaning\n",
    "# Explanation: Let's remove any irrelevant columns, check for duplicated rows,\n",
    "# and clean column names (e.g., remove spaces, convert to lowercase).\n",
    "\n",
    "# Clean column names for consistency\n",
    "sales_df.columns = sales_df.columns.str.strip().str.lower().str.replace(\" \", \"_\")\n",
    "\n",
    "# Remove duplicate rows\n",
    "sales_df = sales_df.drop_duplicates()\n",
    "\n",
    "# Show cleaned structure\n",
    "print(\"\\n📊 Cleaned column names and shape:\")\n",
    "print(sales_df.columns)\n",
    "print(f\"Dataset shape after removing duplicates: {sales_df.shape}\")"
   ]
  },
  {
   "cell_type": "code",
   "execution_count": null,
   "id": "6f4218cf",
   "metadata": {},
   "outputs": [],
   "source": [
    "# 📌 Step 4: Handling Missing or Inconsistent Data\n",
    "# Explanation: Identify null or missing values and apply strategies like filling,\n",
    "# dropping, or imputing based on the business context.\n",
    "\n",
    "# Check for missing values\n",
    "print(\"\\n❓ Missing values in each column:\")\n",
    "print(sales_df.isnull().sum())\n",
    "\n",
    "# Option 1: Fill missing values in 'sales_amount' with 0\n",
    "if 'sales_amount' in sales_df.columns:\n",
    "    sales_df['sales_amount'] = sales_df['sales_amount'].fillna(0)\n",
    "\n",
    "# Option 2: Drop rows where 'customer_id' or 'date' is missing\n",
    "sales_df = sales_df.dropna(subset=['customer_id', 'date'])\n",
    "\n",
    "# Confirm changes\n",
    "print(\"\\n✅ Data after handling missing values:\")\n",
    "print(sales_df.info())"
   ]
  },
  {
   "cell_type": "code",
   "execution_count": null,
   "id": "fe0c8891",
   "metadata": {},
   "outputs": [],
   "source": [
    "# 🔍 Step 5: Filtering Rows Based on Sales Criteria\n",
    "# Explanation: Extract insights by filtering customers with high-value purchases\n",
    "# (e.g., sales_amount > 5000).\n",
    "\n",
    "high_value_sales = sales_df[sales_df['sales_amount'] > 5000]\n",
    "print(\"\\n💸 High-value sales (sales_amount > 5000):\")\n",
    "print(high_value_sales[['customer_id', 'sales_amount']])"
   ]
  },
  {
   "cell_type": "code",
   "execution_count": null,
   "id": "5c378d97",
   "metadata": {},
   "outputs": [],
   "source": [
    "# 📅 Step 6: Converting Date Formats\n",
    "# Explanation: Date columns often come as strings — let’s convert them to datetime\n",
    "# format to allow date-based analysis.\n",
    "\n",
    "# Convert 'date' column to datetime\n",
    "sales_df['date'] = pd.to_datetime(sales_df['date'], errors='coerce')\n",
    "\n",
    "# Drop rows with invalid date conversion\n",
    "sales_df = sales_df.dropna(subset=['date'])\n",
    "\n",
    "# Extract useful date parts\n",
    "sales_df['year'] = sales_df['date'].dt.year\n",
    "sales_df['month'] = sales_df['date'].dt.month\n",
    "sales_df['day'] = sales_df['date'].dt.day\n",
    "\n",
    "print(\"\\n🗓️ Sample after date transformation:\")\n",
    "print(sales_df[['date', 'year', 'month', 'day']].head())"
   ]
  },
  {
   "cell_type": "code",
   "execution_count": null,
   "id": "fd753552",
   "metadata": {},
   "outputs": [],
   "source": [
    "# 📊 Step 7: Visualizing Transformed Data\n",
    "# Explanation: Let’s visualize monthly sales trends after cleaning and transformation.\n",
    "\n",
    "monthly_sales = sales_df.groupby('month')['sales_amount'].sum()\n",
    "\n",
    "plt.figure(figsize=(10, 6))\n",
    "monthly_sales.plot(kind='bar', color='skyblue')\n",
    "plt.title(\"Monthly Sales Distribution\")\n",
    "plt.xlabel(\"Month\")\n",
    "plt.ylabel(\"Total Sales\")\n",
    "plt.grid(True)\n",
    "plt.tight_layout()\n",
    "plt.show()"
   ]
  },
  {
   "cell_type": "markdown",
   "id": "97f59226",
   "metadata": {},
   "source": [
    "✅ **Conclusion**:\n",
    "\n",
    "- Loaded customer sales data from a CSV  \n",
    "- Cleaned column names and removed duplicates  \n",
    "- Handled missing and inconsistent data  \n",
    "- Filtered rows based on business logic (e.g., sales_amount)  \n",
    "- Converted and extracted date formats  \n",
    "- Visualized cleaned data for meaningful insights  \n",
    "\n",
    "These transformations are essential for preparing sales data for in-depth analysis.  \n",
    "As a beginner, mastering these basics builds a strong foundation for more advanced data science workflows."
   ]
  }
 ],
 "metadata": {
  "language_info": {
   "name": "python"
  }
 },
 "nbformat": 4,
 "nbformat_minor": 5
}
